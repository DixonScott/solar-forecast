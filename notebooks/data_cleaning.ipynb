{
 "cells": [
  {
   "cell_type": "code",
   "execution_count": null,
   "id": "0",
   "metadata": {},
   "outputs": [],
   "source": [
    "import pandas as pd\n",
    "import seaborn as sns\n",
    "import matplotlib.pyplot as plt\n",
    "\n",
    "\n",
    "df_full = pd.read_csv('../data/The_Dataset_v1-1.csv', parse_dates = [\"Date\"])\n",
    "df = df_full.copy()\n",
    "# remove NAs\n",
    "df = df.dropna().copy()\n",
    "\n",
    "df.describe()"
   ]
  },
  {
   "cell_type": "code",
   "execution_count": null,
   "id": "1",
   "metadata": {},
   "outputs": [],
   "source": [
    "# Clip some values of cloud cover mean which are >100 to 100\n",
    "df['cloud_cover_mean'] = df['cloud_cover_mean'].clip(upper=100)\n",
    "# Remove some rows where cloud cover min is -1\n",
    "df = df[df['cloud_cover_min'] != -1]"
   ]
  },
  {
   "cell_type": "code",
   "execution_count": null,
   "id": "2",
   "metadata": {},
   "outputs": [],
   "source": [
    "# Variable summaries look good, now histograms\n",
    "df.hist(bins=25, figsize=(15, 10))\n",
    "plt.tight_layout()\n",
    "plt.show()"
   ]
  },
  {
   "cell_type": "code",
   "execution_count": null,
   "id": "3",
   "metadata": {},
   "outputs": [],
   "source": [
    "# Histograms look good.\n",
    "# The weather code variable needs to be mapped onto categories (currently has numbers representing weather codes)\n",
    "# Start by looking at the frequencies of each weather code\n",
    "print(df['weather_code'].value_counts().sort_index())\n",
    "\n",
    "# Boxplots of efficiency by weather code\n",
    "plt.figure(figsize=(12, 6))\n",
    "sns.boxplot(data=df, x='weather_code', y='Efficiency (kWh/kW)')\n",
    "plt.xlabel('Weather Code')\n",
    "plt.ylabel('Efficiency (kWh/kW)')\n",
    "plt.xticks(rotation=90)\n",
    "plt.show()"
   ]
  },
  {
   "cell_type": "code",
   "execution_count": null,
   "id": "4",
   "metadata": {},
   "outputs": [],
   "source": [
    "# The following mapping of weather codes looks appropriate and leaves no sparse categories\n",
    "weather_map = {\n",
    "    0: 'clear',\n",
    "    1: 'partly_cloudy', 2: 'partly_cloudy',\n",
    "    3: 'overcast',\n",
    "    45: 'fog', 48: 'fog',\n",
    "    51: 'drizzle', 53: 'drizzle', 55: 'drizzle',\n",
    "    56: 'drizzle', 57: 'drizzle',\n",
    "    61: 'rain', 63: 'rain', 65: 'rain',\n",
    "    66: 'rain', 67: 'rain',\n",
    "    71: 'snow', 73: 'snow', 75: 'snow',\n",
    "    77: 'snow',\n",
    "    80: 'rain_showers', 81: 'rain_showers', 82: 'rain_showers',\n",
    "    85: 'snow', 86: 'snow',\n",
    "    95: 'thunderstorm',\n",
    "    96: 'thunderstorm', 99: 'thunderstorm'\n",
    "}\n",
    "df['weather_category'] = df['weather_code'].map(weather_map)\n",
    "df = pd.get_dummies(df, columns=['weather_category'], drop_first=True)\n",
    "df = df.drop(columns=['weather_code'])"
   ]
  },
  {
   "cell_type": "code",
   "execution_count": null,
   "id": "5",
   "metadata": {},
   "outputs": [],
   "source": [
    "# calculate correlations, excluding the new dummy variables\n",
    "cols_to_exclude = [col for col in df.columns if col.startswith('weather_category_')]\n",
    "corr_matrix = df.drop(columns = cols_to_exclude).corr()\n",
    "\n",
    "# plot heatmap of the correlations of all pairs of variables\n",
    "plt.figure(figsize=(10, 8))\n",
    "sns.heatmap(corr_matrix, annot=True, cmap='coolwarm', fmt='.2f')\n",
    "plt.title(\"Correlation Heatmap\")\n",
    "plt.show()"
   ]
  },
  {
   "cell_type": "code",
   "execution_count": null,
   "id": "6",
   "metadata": {},
   "outputs": [],
   "source": [
    "# pair plot of the variables with the strongest linear correlations with efficiency (plotting everything is too much)\n",
    "sns.pairplot(df[[\"Efficiency (kWh/kW)\", \"sunshine_duration\", \"daylight_duration\",\n",
    "                 \"relative_humidity_2m_min\", \"shortwave_radiation_sum\", \"cloud_cover_mean\"]],\n",
    "            plot_kws={\"s\": 5})"
   ]
  },
  {
   "cell_type": "code",
   "execution_count": null,
   "id": "7",
   "metadata": {},
   "outputs": [],
   "source": [
    "# Noticing some lines in the plots with efficiency, let's see where they are:\n",
    "print(df[\"Efficiency (kWh/kW)\"].value_counts())"
   ]
  },
  {
   "cell_type": "code",
   "execution_count": null,
   "id": "8",
   "metadata": {},
   "outputs": [],
   "source": [
    "# 2.278 is a very frequent value, is it associated with particular dates or a system?\n",
    "print(df_full[df_full[\"Efficiency (kWh/kW)\"] == 2.278][\"Date\"].value_counts())\n",
    "print(df_full[df_full[\"Efficiency (kWh/kW)\"] == 2.278][\"System ID\"].value_counts())"
   ]
  },
  {
   "cell_type": "code",
   "execution_count": null,
   "id": "9",
   "metadata": {},
   "outputs": [],
   "source": [
    "# System 3099 has 180 of the 191 instances of 2.278.\n",
    "# Let's see what is going on for 3099:\n",
    "value_counts = df_full[df_full[\"System ID\"] == 3099][\"Efficiency (kWh/kW)\"].value_counts()\n",
    "\n",
    "sns.barplot(x=value_counts.index, y=value_counts.values)\n",
    "plt.xticks(rotation=90)\n",
    "plt.show()"
   ]
  },
  {
   "cell_type": "code",
   "execution_count": null,
   "id": "10",
   "metadata": {},
   "outputs": [],
   "source": [
    "# Clearly, there should be more unique values for efficiency over thousands of days.\n",
    "# Let's remove system 3099 (in a new dataframe).\n",
    "df_edit = df.copy()\n",
    "df_edit = df_edit[df_edit[\"System ID\"] != 3099]"
   ]
  },
  {
   "cell_type": "code",
   "execution_count": null,
   "id": "11",
   "metadata": {},
   "outputs": [],
   "source": [
    "# Let's see if there are other systems with very few unique values of efficiency:\n",
    "all_sids = df_edit[\"System ID\"].drop_duplicates()\n",
    "sid_unique_counts = []\n",
    "\n",
    "for sid in all_sids:\n",
    "    unique_count = df_edit[df_edit[\"System ID\"] == sid][\"Efficiency (kWh/kW)\"].nunique()\n",
    "    sid_unique_counts.append((unique_count, sid))\n",
    "\n",
    "# Print the sorted results\n",
    "sid_unique_counts.sort()\n",
    "for unique_count, sid in sid_unique_counts:\n",
    "    print(f\"{unique_count} unique values for System ID {sid}\")"
   ]
  },
  {
   "cell_type": "code",
   "execution_count": null,
   "id": "12",
   "metadata": {},
   "outputs": [],
   "source": [
    "# Plot bar charts for systems with very few unique values of efficiency.\n",
    "for sid in (8224, 4113, 32351, 6090, 46979, 3641):\n",
    "    print(f\"{len(df_edit[df_edit[\"System ID\"] == sid][\"Efficiency (kWh/kW)\"].unique())} unique values for System ID {sid}\")\n",
    "    value_counts = df_edit[df_edit[\"System ID\"] == sid][\"Efficiency (kWh/kW)\"].value_counts()\n",
    "\n",
    "    sns.barplot(x=value_counts.index, y=value_counts.values)\n",
    "    plt.xticks(rotation=90)\n",
    "    plt.show()"
   ]
  },
  {
   "cell_type": "code",
   "execution_count": null,
   "id": "13",
   "metadata": {},
   "outputs": [],
   "source": [
    "# The first two sids have 0 efficiency every day. The last four sids have a small set of unique efficiency values.\n",
    "sids_to_delete = (8224, 4113, 32351, 46979, 3641, 6090)\n",
    "for sid in sids_to_delete:\n",
    "    df_edit = df_edit[df_edit[\"System ID\"] != sid]"
   ]
  },
  {
   "cell_type": "code",
   "execution_count": null,
   "id": "14",
   "metadata": {},
   "outputs": [],
   "source": [
    "# Let's take another look at the frequency of the efficiency values\n",
    "print(df_edit[\"Efficiency (kWh/kW)\"].value_counts().head(50))"
   ]
  },
  {
   "cell_type": "code",
   "execution_count": null,
   "id": "15",
   "metadata": {},
   "outputs": [],
   "source": [
    "# Check these values of efficiency by system ID\n",
    "for value in (0, 0.3, 0.475, 0.2, 0.6, 0.4, 0.42, 2.513, 1.525, 0.15, 0.21, 1.425, 0.145, 2.079):\n",
    "    print(f\"Efficiency - {value}, top 5 contributors\")\n",
    "    print(df_edit[df_edit[\"Efficiency (kWh/kW)\"] == value][\"System ID\"].value_counts().head(5))"
   ]
  },
  {
   "cell_type": "code",
   "execution_count": null,
   "id": "16",
   "metadata": {},
   "outputs": [],
   "source": [
    "# 37543 has a period where there is 0 efficiency and \"not sure\" recorded in the condition column.\n",
    "# Looking at the systems 51963 and 5116, the two systems with the most 0s after 37543, we see that all of them have \"not sure\"\n",
    "# in the condition column in pvoutput.org, and generally occur on consecutive days, suggesting repairs/maintenance/deactivation.\n",
    "# Let's drop all rows where efficiency is 0:\n",
    "df_edit = df_edit[df_edit[\"Efficiency (kWh/kW)\"] != 0]"
   ]
  },
  {
   "cell_type": "code",
   "execution_count": null,
   "id": "17",
   "metadata": {},
   "outputs": [],
   "source": [
    "# Plot some more systems that look suspect\n",
    "for sid in (86644, 6125, 3764, 51963, 5116, 3036, 66986):\n",
    "    print(f\"{len(df_edit[df_edit[\"System ID\"] == sid][\"Efficiency (kWh/kW)\"].unique())} unique values for System ID {sid}\")\n",
    "    value_counts = df_edit[df_edit[\"System ID\"] == sid][\"Efficiency (kWh/kW)\"].value_counts()\n",
    "\n",
    "    sns.barplot(x=value_counts.index, y=value_counts.values)\n",
    "    plt.xticks(rotation=90)\n",
    "    plt.show()"
   ]
  },
  {
   "cell_type": "code",
   "execution_count": null,
   "id": "18",
   "metadata": {},
   "outputs": [],
   "source": [
    "# None of these systems look erroneous according to these plots, they just have low precision values.\n",
    "# No issues when inspecting the systems on pvoutput.org either.\n",
    "# Finally, check a few more systems with relatively few unique values of efficiency.\n",
    "for sid in (14745, 42343, 106682, 22778):\n",
    "    print(f\"{len(df_edit[df_edit[\"System ID\"] == sid][\"Efficiency (kWh/kW)\"].unique())} unique values for System ID {sid}\")\n",
    "    value_counts = df_edit[df_edit[\"System ID\"] == sid][\"Efficiency (kWh/kW)\"].value_counts()\n",
    "\n",
    "    sns.barplot(x=value_counts.index, y=value_counts.values)\n",
    "    plt.xticks(rotation=90)\n",
    "    plt.show()"
   ]
  },
  {
   "cell_type": "code",
   "execution_count": null,
   "id": "19",
   "metadata": {},
   "outputs": [],
   "source": [
    "# No issues after looking at them all in pvoutout.org.\n",
    "# Now that the data are clean, let's check the pair plot again to make sure the lines of equal efficiency are gone:\n",
    "sns.pairplot(df[[\"Efficiency (kWh/kW)\", \"sunshine_duration\", \"daylight_duration\",\n",
    "                 \"relative_humidity_2m_min\", \"shortwave_radiation_sum\", \"cloud_cover_mean\"]],\n",
    "            plot_kws={\"s\": 5})"
   ]
  },
  {
   "cell_type": "code",
   "execution_count": null,
   "id": "20",
   "metadata": {},
   "outputs": [],
   "source": [
    "# Finally, add functions to \"data_cleaning.py\" in \"build_dataset\" package to automatically do all the data cleaning in this notebook."
   ]
  }
 ],
 "metadata": {
  "kernelspec": {
   "display_name": "Python 3.13 (solar_power venv)",
   "language": "python",
   "name": "python3"
  },
  "language_info": {
   "codemirror_mode": {
    "name": "ipython",
    "version": 3
   },
   "file_extension": ".py",
   "mimetype": "text/x-python",
   "name": "python",
   "nbconvert_exporter": "python",
   "pygments_lexer": "ipython3",
   "version": "3.13.5"
  }
 },
 "nbformat": 4,
 "nbformat_minor": 5
}
